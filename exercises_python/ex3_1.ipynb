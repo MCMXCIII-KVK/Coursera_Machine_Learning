{
 "cells": [
  {
   "cell_type": "markdown",
   "metadata": {},
   "source": [
    "# One-vs-Allクラス分類"
   ]
  },
  {
   "cell_type": "markdown",
   "metadata": {},
   "source": [
    "ロジスティック回帰を用いたOne-vs-Allクラス分類の例として，手書き数字の認識を扱う．"
   ]
  },
  {
   "cell_type": "markdown",
   "metadata": {},
   "source": [
    "## データのロード"
   ]
  },
  {
   "cell_type": "code",
   "execution_count": 2,
   "metadata": {},
   "outputs": [],
   "source": [
    "import numpy as np\n",
    "import scipy.io\n",
    "import matplotlib.pyplot as plt\n",
    "from mpl_toolkits.mplot3d import Axes3D\n",
    "import matplotlib.gridspec as gridspec"
   ]
  },
  {
   "cell_type": "code",
   "execution_count": 37,
   "metadata": {},
   "outputs": [
    {
     "name": "stdout",
     "output_type": "stream",
     "text": [
      "訓練データの数（画像の枚数）：m = 5000\n",
      "特徴量の数（ピクセル数）：n = 400\n"
     ]
    }
   ],
   "source": [
    "# 訓練データのロード\n",
    "data = scipy.io.loadmat('data/ex3data1.mat')\n",
    "# X_unext: 各ピクセルの画素値（特徴量）からなる行ベクトルを全画像について縦に並べた行列\n",
    "# y_label: 正解の数字（ターゲット）を全画像について縦に並べた列ベクトル\n",
    "X_unext, y_label = data['X'], data['y']\n",
    "y_label[y_label==10] = 0 # 0の画像のラベルが10に書き換えられているため0に戻す\n",
    "m, n = X_unext.shape\n",
    "print('訓練データの数（画像の枚数）：m =',m)\n",
    "print('特徴量の数（ピクセル数）：n =',n)"
   ]
  },
  {
   "cell_type": "markdown",
   "metadata": {},
   "source": [
    "## 仮説とコスト関数の定義"
   ]
  },
  {
   "cell_type": "markdown",
   "metadata": {},
   "source": [
    "特徴量ベクトルを$x=(x_0 ,x_1 ,\\dots ,x_n)^\\mathrm{T}$，ターゲットの1-hot表現を$y=(y^0 ,y^1 ,\\dots ,y^C)^\\mathrm{T}$とする．1-hot表現$y$は$(C+1)$次元ベクトルであり，クラスのラベルが$c$ならば$y$は第$c$成分のみ1で他が0のベクトルとなる．0番目の特徴量は常に$x_0 =1$とする．パラメータ行列$\\Theta =(\\Theta ^{ic})_{i=0,\\dots ,n;c=0,\\dots ,C}$に対して仮説を$C$成分ベクトル$h_\\Theta (x)=(h_\\Theta (x)^0 ,\\dots ,h_\\Theta (x)^C)^\\mathrm{T}$とする．仮説の各成分は次のように与えられる：\n",
    "$$\n",
    "h_\\Theta (x)^c=\\sigma\\left(\\sum _{i=0}^n x_i \\Theta ^{ic} \\right) ,\\quad\\sigma (z)=\\frac{1}{1+e^{-z}} .\n",
    "$$\n",
    "多クラスのロジスティック回帰では，特徴量$x$が与えられたとき$h_\\Theta (x)$の成分が最も大きくなるようなインデックスがターゲットのクラスであると推定する．\n",
    "\n",
    "コスト関数は交差エントロピーとする：\n",
    "$$\n",
    "J(\\theta )=-\\frac{1}{m} \\sum _{d=1}^m \\sum _{c=0}^C [y^{(d)c} \\log h_\\Theta (x^{(d)})^c +(1-y^{(d)c})\\log (1-h_\\Theta (x^{(d)})^c)].\n",
    "$$\n",
    "ただし，$(d)$は$d=1,\\dots ,m$番目のデータを表す．このとき，コスト関数の勾配は次のように表される：\n",
    "$$\n",
    "\\frac{\\partial J(\\Theta )}{\\partial\\Theta ^{ic}} =\\frac{1}{m} \\sum _{d=1}^m (h_\\Theta (x^{(d)})^c -y^{(d)c})x_i^{(d)} .\n",
    "$$\n",
    "\n",
    "正則化項つきコスト関数は次のように与えられる：\n",
    "$$\n",
    "J_\\mathrm{r} (\\Theta )=J(\\Theta)+\\frac{1}{2m} \\sum _{i=0}^n \\sum _{c=0}^C \\mu ^i (\\Theta ^{ic})^2 .\n",
    "$$\n",
    "正則化項に含まれる$\\mu =(\\mu ^0 ,\\mu ^1 ,\\dots ,\\mu ^n)^\\mathrm{T}$はハイパーパラメータである．このとき，コスト関数の勾配は次のように表される：\n",
    "$$\n",
    "\\frac{\\partial J_\\mathrm{r} (\\Theta )}{\\partial\\Theta ^{ic}} =\\frac{\\partial J(\\Theta )}{\\partial\\Theta ^{ic}} +\\frac{1}{m} \\mu ^i \\Theta ^{ic} .\n",
    "$$\n",
    "仮説や勾配がクラス$c$ごとに完全に分離しているので，クラスごとにコスト関数を最適化することができる．"
   ]
  },
  {
   "cell_type": "code",
   "execution_count": 38,
   "metadata": {},
   "outputs": [],
   "source": [
    "# 0番目の特徴量1を追加する関数\n",
    "# X_unextは追加前のm*n行列，Xは追加後のm*(n+1)行列（特徴量の行ベクトルを縦に並べたもの）\n",
    "def add1column(X_unext):\n",
    "    X = np.insert(X_unext,0,1,axis=1)\n",
    "    return(X)"
   ]
  },
  {
   "cell_type": "code",
   "execution_count": 39,
   "metadata": {},
   "outputs": [],
   "source": [
    "# 特徴量行列\n",
    "X = add1column(X_unext)"
   ]
  },
  {
   "cell_type": "code",
   "execution_count": 40,
   "metadata": {},
   "outputs": [],
   "source": [
    "# ターゲットの1-hot表現\n",
    "C = 9 # クラス数-1（0から9までの10クラス）\n",
    "Y = np.zeros((m,C+1))\n",
    "Y[np.arange(m),y.flatten()] = 1"
   ]
  },
  {
   "cell_type": "code",
   "execution_count": 41,
   "metadata": {},
   "outputs": [],
   "source": [
    "# シグモイド関数\n",
    "def sigmoid(z):\n",
    "    s = 1 / (1 + np.exp(-z))\n",
    "    return(s)"
   ]
  },
  {
   "cell_type": "code",
   "execution_count": 42,
   "metadata": {},
   "outputs": [],
   "source": [
    "# コスト関数（正則化項なし）と勾配\n",
    "def costFunction_gradient(X,y,theta):\n",
    "    epsilon = 1e-7 # np.log(0) の発散を防ぐ\n",
    "    m = y.size\n",
    "    h = sigmoid(X @ theta)\n",
    "    J = -(1 / m) * np.squeeze((y.T @ np.log(h+epsilon) + (1-y).T @ np.log(1-h+epsilon)))\n",
    "    J_theta = (1 / m) * X.T @ (h - y)\n",
    "    return(J,J_theta)"
   ]
  },
  {
   "cell_type": "code",
   "execution_count": 43,
   "metadata": {},
   "outputs": [],
   "source": [
    "# 正則化項つきコスト関数と勾配\n",
    "def costFunctionReg_gradient(X,y,theta,mu):\n",
    "    m = y.size\n",
    "    J, J_theta = costFunction_gradient(X,y,theta)\n",
    "    Jr = J + (1 / (2 * m)) * np.squeeze(np.sum(mu * theta**2, axis=0))\n",
    "    Jr_theta = J_theta + (1 / m) * mu * theta\n",
    "    return(Jr,Jr_theta)"
   ]
  },
  {
   "cell_type": "code",
   "execution_count": 144,
   "metadata": {},
   "outputs": [],
   "source": [
    "# 正則化パラメータ\n",
    "mu1 = 1\n",
    "mu = mu1 * np.ones((n+1,1))\n",
    "mu[0] = 0"
   ]
  },
  {
   "cell_type": "code",
   "execution_count": 145,
   "metadata": {},
   "outputs": [],
   "source": [
    "# 初期パラメータ（ゼロベクトル）\n",
    "Thetai = np.zeros((n+1,C+1))"
   ]
  },
  {
   "cell_type": "markdown",
   "metadata": {},
   "source": [
    "## 勾配法"
   ]
  },
  {
   "cell_type": "markdown",
   "metadata": {},
   "source": [
    "勾配法では，コスト関数の勾配と逆方向にパラメータを動かすことでコスト関数の最小点を探索する．正則化あり勾配法の更新式は次のように与えられる：\n",
    "$$\n",
    "\\theta\\leftarrow\\theta -\\alpha\\frac{\\partial J_\\mathrm{r} (\\theta )}{\\partial\\theta} .\n",
    "$$\n",
    "$\\alpha$は学習率と呼ばれる．正則化項は（0番目以外の）特徴量を小さくする効果を持つ．"
   ]
  },
  {
   "cell_type": "code",
   "execution_count": 53,
   "metadata": {},
   "outputs": [],
   "source": [
    "# 正則化あり勾配法\n",
    "def gradientDescentReg(X,y,thetai,mu,alpha,num_iters):\n",
    "    theta = thetai\n",
    "    Jr_theta = 0\n",
    "    # theta_history = np.zeros((theta.size,num_iters+1))\n",
    "    Jr_history = np.zeros((num_iters+1))\n",
    "    \n",
    "    for i in np.arange(num_iters+1):\n",
    "        theta = theta - alpha * Jr_theta\n",
    "        # theta_history[:,[i]] = theta\n",
    "        Jr_history[i], Jr_theta = costFunctionReg_gradient(X,y,theta,mu)\n",
    "    \n",
    "    return(theta,Jr_history)\n",
    "    # return(theta,theta_history,Jr_history)"
   ]
  },
  {
   "cell_type": "code",
   "execution_count": 202,
   "metadata": {},
   "outputs": [],
   "source": [
    "# 正則化あり勾配法によるOne-vs-All分類\n",
    "def gradientDescentReg_1vsAll(X,Y,Thetai,mu,alpha=0.5,num_iters=3000):\n",
    "    C = Y.shape[1] - 1\n",
    "    Theta = Thetai.copy()\n",
    "    Jr_history = np.zeros((num_iters+1,C+1))\n",
    "    \n",
    "    for c in np.arange(C+1):\n",
    "        Theta[:,[c]], Jr_history[:,c] = gradientDescentReg(X,Y[:,[c]],Thetai[:,[c]],mu,alpha,num_iters)\n",
    "    \n",
    "    return(Theta,Jr_history)"
   ]
  },
  {
   "cell_type": "markdown",
   "metadata": {},
   "source": [
    "正則化パラメータを$\\mu =(0,1,\\dots ,1)^\\mathrm{T}$とし，学習率$\\alpha =0.5$，更新回数3,000で勾配法を実行する．"
   ]
  },
  {
   "cell_type": "code",
   "execution_count": 203,
   "metadata": {},
   "outputs": [
    {
     "data": {
      "text/plain": [
       "Text(0, 0.5, 'Cost for each class')"
      ]
     },
     "execution_count": 203,
     "metadata": {},
     "output_type": "execute_result"
    },
    {
     "data": {
      "image/png": "[encoded data removed]",
      "text/plain": [
       "<Figure size 432x288 with 1 Axes>"
      ]
     },
     "metadata": {
      "needs_background": "light"
     },
     "output_type": "display_data"
    }
   ],
   "source": [
    "# 正則化あり勾配法の実行\n",
    "Theta, Jr_history = gradientDescentReg_1vsAll(X,Y,Thetai,mu)\n",
    "\n",
    "# コストのプロット\n",
    "plt.plot(Jr_history)\n",
    "plt.xlabel('Number of iterations')\n",
    "plt.ylabel('Cost for each class')"
   ]
  },
  {
   "cell_type": "markdown",
   "metadata": {},
   "source": [
    "勾配法で求めたパラメータから訓練データに対する正解率を計算すると，約93%となる．"
   ]
  },
  {
   "cell_type": "code",
   "execution_count": 100,
   "metadata": {},
   "outputs": [],
   "source": [
    "# 予測\n",
    "def predict_1vsAll(X,Theta):\n",
    "    h = sigmoid(X @ Theta)\n",
    "    yp_label = np.argmax(h,axis=1).reshape(-1,1)\n",
    "    return(yp_label)"
   ]
  },
  {
   "cell_type": "code",
   "execution_count": 101,
   "metadata": {},
   "outputs": [],
   "source": [
    "# 予測と正解率\n",
    "def predict_accuracy_1vsAll(X,y_label,Theta):\n",
    "    m = y_label.size\n",
    "    yp_label = predict_1vsAll(X,Theta)\n",
    "    I_True = (yp_label == y_label).astype('float')\n",
    "    acc = np.sum(I_True,axis=0) / m\n",
    "    return(yp_label,acc)"
   ]
  },
  {
   "cell_type": "code",
   "execution_count": 204,
   "metadata": {
    "scrolled": false
   },
   "outputs": [
    {
     "name": "stdout",
     "output_type": "stream",
     "text": [
      "訓練データに対する正解率 0.9344\n"
     ]
    }
   ],
   "source": [
    "# 訓練データに対する正解率\n",
    "_, acc = predict_accuracy_1vsAll(X,y_label,Theta)\n",
    "print('訓練データに対する正解率',acc[-1])"
   ]
  },
  {
   "cell_type": "markdown",
   "metadata": {},
   "source": [
    "## 自然勾配法"
   ]
  },
  {
   "cell_type": "markdown",
   "metadata": {},
   "source": [
    "次に自然勾配法を実行しよう．正則化したコスト関数$J_\\mathrm{r} (\\theta )$とFisher情報行列$g_\\mathrm{r} (\\theta )$の逆行列をかけたものに比例してパラメータを減らしていく：\n",
    "$$\n",
    "\\theta\\leftarrow\\theta -\\alpha g_\\mathrm{r}^{-1} \\frac{\\partial J_\\mathrm{r} (\\theta )}{\\partial\\theta} .\n",
    "$$\n",
    "ここで，Fisher情報行列$g(\\theta )$の$(i,j)$成分は次のように与えられる：\n",
    "$$\n",
    "g_{ij} (\\theta )=\\frac{1}{m} \\sum _{d=1}^m h_\\theta (x^{(d)})(1-h_\\theta (x^{(d)}))x_i^{(d)} x_j^{(d)} .\n",
    "$$\n",
    "また正則化したFisher情報行列$g_\\mathrm{r} (\\theta )$の$(i,j)$成分は次のように与えられる：\n",
    "$$\n",
    "(g_\\mathrm{r})_{ij} (\\theta )=g_{ij} (\\theta )+\\frac{1}{m} \\mu ^i \\delta ^{ij} .\n",
    "$$\n",
    "ここで$\\delta ^{ij}$はKroneckerのデルタである．"
   ]
  },
  {
   "cell_type": "code",
   "execution_count": 177,
   "metadata": {},
   "outputs": [],
   "source": [
    "# Fisher情報行列\n",
    "def FisherMatrix(X,theta):\n",
    "    m = X.shape[0]\n",
    "    h = sigmoid(X @ theta)\n",
    "    h_d1 = h * (1 - h)\n",
    "    g = (1 / m) * X.T @ (h_d1 * X)\n",
    "    return(g)"
   ]
  },
  {
   "cell_type": "code",
   "execution_count": 178,
   "metadata": {},
   "outputs": [],
   "source": [
    "# 正則化項つきFisher情報行列\n",
    "def FisherMatrixReg(X,theta,mu):\n",
    "    m = X.shape[0]\n",
    "    g = FisherMatrix(X,theta)\n",
    "    gr = g + (1 / m) * np.diag(mu.flatten())\n",
    "    return(gr)"
   ]
  },
  {
   "cell_type": "code",
   "execution_count": 179,
   "metadata": {},
   "outputs": [],
   "source": [
    "# 正則化あり自然勾配法\n",
    "def naturalGradientDescentReg(X,y,thetai,mu,alpha,num_iters):\n",
    "    theta = thetai\n",
    "    Jr_theta_n = 0\n",
    "    # theta_history = np.zeros((theta.size,num_iters+1))\n",
    "    Jr_history = np.zeros((num_iters+1))\n",
    "    \n",
    "    for i in np.arange(num_iters+1):\n",
    "        theta = theta - alpha * Jr_theta_n\n",
    "        # theta_history[:,[i]] = theta\n",
    "        Jr_history[i], Jr_theta = costFunctionReg_gradient(X,y,theta,mu)\n",
    "        g_inv = np.linalg.inv(FisherMatrixReg(X,theta,mu))\n",
    "        Jr_theta_n = g_inv @ Jr_theta\n",
    "    \n",
    "    return(theta,Jr_history)\n",
    "    # return(theta,theta_history,Jr_history)"
   ]
  },
  {
   "cell_type": "code",
   "execution_count": 189,
   "metadata": {},
   "outputs": [],
   "source": [
    "# 正則化あり自然勾配法によるOne-vs-All分類\n",
    "def naturalGradientDescentReg_1vsAll(X,Y,Thetai,mu,alpha=1,num_iters=10):\n",
    "    C = Y.shape[1] - 1\n",
    "    Theta = Thetai.copy()\n",
    "    Jr_history = np.zeros((num_iters+1,C+1))\n",
    "    \n",
    "    for c in np.arange(C+1):\n",
    "        Theta[:,[c]], Jr_history[:,c] = naturalGradientDescentReg(X,Y[:,[c]],Thetai[:,[c]],mu,alpha,num_iters)\n",
    "    \n",
    "    return(Theta,Jr_history)"
   ]
  },
  {
   "cell_type": "markdown",
   "metadata": {},
   "source": [
    "正則化パラメータを$\\mu =(0,1,\\dots ,1)^\\mathrm{T}$とし，学習率$\\alpha =1$で自然勾配法を実行すると，10ステップ程度でコストは収束し，訓練データに対する正解率も約94%となる．"
   ]
  },
  {
   "cell_type": "code",
   "execution_count": 205,
   "metadata": {},
   "outputs": [
    {
     "name": "stdout",
     "output_type": "stream",
     "text": [
      "訓練データに対する正解率 0.9446\n"
     ]
    },
    {
     "data": {
      "image/png": "[encoded data removed]",
      "text/plain": [
       "<Figure size 432x288 with 1 Axes>"
      ]
     },
     "metadata": {
      "needs_background": "light"
     },
     "output_type": "display_data"
    }
   ],
   "source": [
    "# 正則化あり自然勾配法の実行\n",
    "Theta, Jr_history = naturalGradientDescentReg_1vsAll(X,Y,Thetai,mu)\n",
    "\n",
    "# コストのプロット\n",
    "plt.plot(Jr_history)\n",
    "plt.xlabel('Number of iterations')\n",
    "plt.ylabel('Cost for each class')\n",
    "\n",
    "# 訓練データに対する正解率\n",
    "_, acc = predict_accuracy_1vsAll(X,y_label,Theta)\n",
    "print('訓練データに対する正解率',acc[-1])"
   ]
  },
  {
   "cell_type": "code",
   "execution_count": null,
   "metadata": {},
   "outputs": [],
   "source": []
  }
 ],
 "metadata": {
  "kernelspec": {
   "display_name": "Python 3",
   "language": "python",
   "name": "python3"
  },
  "language_info": {
   "codemirror_mode": {
    "name": "ipython",
    "version": 3
   },
   "file_extension": ".py",
   "mimetype": "text/x-python",
   "name": "python",
   "nbconvert_exporter": "python",
   "pygments_lexer": "ipython3",
   "version": "3.7.2"
  }
 },
 "nbformat": 4,
 "nbformat_minor": 2
}
